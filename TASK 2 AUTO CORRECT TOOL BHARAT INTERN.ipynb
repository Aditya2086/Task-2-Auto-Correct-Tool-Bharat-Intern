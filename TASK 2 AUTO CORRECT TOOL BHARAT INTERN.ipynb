{
 "cells": [
  {
   "cell_type": "markdown",
   "metadata": {
    "id": "YdBg4hLhCn1x"
   },
   "source": [
    "# **BHARAT INTERN - VIRTUAL INTERNSHIP 2023**\n",
    "\n",
    "### **CREATED BY ADITYA PRATAP SINGH CHAUHAN**"
   ]
  },
  {
   "cell_type": "markdown",
   "metadata": {
    "id": "60XnfKJ9CzzT"
   },
   "source": [
    "# **TASK 2 :- AUTO CORRECT TOOL**\n",
    "\n",
    "**In this task the AI must correct the word\n",
    "or give the word which is nearest to it.**"
   ]
  },
  {
   "cell_type": "code",
   "execution_count": 1,
   "metadata": {
    "id": "gssW-l-tClKh"
   },
   "outputs": [],
   "source": [
    "import os\n",
    "#import re\n",
    "import numpy as np\n",
    "import pandas as pd\n",
    "from collections import Counter\n",
    "import nltk"
   ]
  },
  {
   "cell_type": "code",
   "execution_count": 2,
   "metadata": {
    "id": "Wn7GraepF7YB"
   },
   "outputs": [],
   "source": [
    "file_path = \"C:\\\\Users\\\\Aditya\\\\words.txt\"\n",
    "with open(file_path, 'r', encoding='ISO-8859-1') as f:\n",
    "    file = f.readlines()"
   ]
  },
  {
   "cell_type": "code",
   "execution_count": 3,
   "metadata": {
    "id": "giBP7627GDtQ"
   },
   "outputs": [],
   "source": [
    "def process_data(lines):\n",
    "    words = []\n",
    "    for line in lines:\n",
    "        line = line.strip().lower()\n",
    "        #word = re.findall(r'\\w+', line)\n",
    "        word=line.split()\n",
    "        words.extend(word)\n",
    "    return words"
   ]
  },
  {
   "cell_type": "code",
   "execution_count": 4,
   "metadata": {
    "id": "1ySoW6piGIE2"
   },
   "outputs": [],
   "source": [
    "word_l = process_data(file)\n",
    "vocab = set(word_l)"
   ]
  },
  {
   "cell_type": "code",
   "execution_count": 5,
   "metadata": {
    "id": "_IV0dQq_GLGa"
   },
   "outputs": [],
   "source": [
    "def find_wrong_word(sent, vocab):\n",
    "    wrong_words = []\n",
    "    sent = sent.strip().lower().split(\" \")\n",
    "    for word in sent:\n",
    "        if word not in vocab:\n",
    "            wrong_words.append(word)\n",
    "    return wrong_words"
   ]
  },
  {
   "cell_type": "code",
   "execution_count": 6,
   "metadata": {
    "id": "EKZ-e6IiGNqx"
   },
   "outputs": [],
   "source": [
    "def switch_letter(word, verbose=False):\n",
    "    switch_l = []\n",
    "    split_l = [(word[:i], word[i:]) for i in range(len(word))]\n",
    "    for s in split_l:\n",
    "        if len(s[1])>2:\n",
    "            temp = s[0] + s[1][1] + s[1][0] + s[1][2:]\n",
    "        elif len(s[1]) == 2:\n",
    "            temp = s[0] + s[1][1] + s[1][0]\n",
    "        elif len(s[1]) == 1:\n",
    "            continue\n",
    "        switch_l.append(temp)\n",
    "    return switch_l"
   ]
  },
  {
   "cell_type": "code",
   "execution_count": 7,
   "metadata": {
    "id": "6Ez9yogzGQAI"
   },
   "outputs": [],
   "source": [
    "def replace_letter(word, verbose=False):\n",
    "    letters = 'abcdefghijklmnopqrstuvwxyz'\n",
    "    replace_l = []\n",
    "    split_l = [(word[:i], word[i:]) for i in range(len(word))]\n",
    "    for s in split_l:\n",
    "        if len(s[1]) == 1:\n",
    "            for l in letters:\n",
    "                if l != s[1][0]:\n",
    "                    temp = l\n",
    "                    replace_l.append(s[0]+temp)\n",
    "        elif len(s) > 1:\n",
    "            for l in letters:\n",
    "                if l != s[1][0]:\n",
    "                    temp = l + s[1][1:]\n",
    "                    replace_l.append(s[0]+temp)\n",
    "\n",
    "    replace_set = set(replace_l)\n",
    "    replace_l = sorted(list(replace_set))\n",
    "    return replace_l"
   ]
  },
  {
   "cell_type": "code",
   "execution_count": 8,
   "metadata": {
    "id": "SFFZXXLyGTUm"
   },
   "outputs": [],
   "source": [
    "def insert_letter(word, verbose=False):\n",
    "    letters = 'abcdefghijklmnopqrstuvwxyz'\n",
    "    insert_l = []\n",
    "    split_l = [(word[:i], word[i:]) for i in range(len(word)+1)]\n",
    "    for s in split_l:\n",
    "        for l in letters:\n",
    "            insert_l.append(s[0]+l+s[1])\n",
    "    return insert_l"
   ]
  },
  {
   "cell_type": "code",
   "execution_count": 9,
   "metadata": {
    "id": "aXLkPQrHGWJb"
   },
   "outputs": [],
   "source": [
    "def delete_letter(word, verbose=False):\n",
    "    split_l = [(word[:i], word[i:]) for i in range(len(word))]\n",
    "    delete_l = [s[0]+s[1][1:] for s in split_l]\n",
    "    return delete_l"
   ]
  },
  {
   "cell_type": "code",
   "execution_count": 10,
   "metadata": {
    "id": "G3JmK1TaGYVA"
   },
   "outputs": [],
   "source": [
    "def edit_one_letter(word, allow_switches = True):\n",
    "    edit_one_set = set()\n",
    "    insert_l = insert_letter(word)\n",
    "    delete_l = delete_letter(word)\n",
    "    replace_l = replace_letter(word)\n",
    "    switch_l = switch_letter(word)\n",
    "\n",
    "    if allow_switches:\n",
    "        ans = insert_l + delete_l + replace_l + switch_l\n",
    "    else:\n",
    "        ans = insert_l + delete_l + replace_l\n",
    "    edit_one_set = set(ans)\n",
    "    return edit_one_set"
   ]
  },
  {
   "cell_type": "code",
   "execution_count": 11,
   "metadata": {
    "id": "AM1OuKU5Ga63"
   },
   "outputs": [],
   "source": [
    "def edit_two_letters(word, allow_switches = True):\n",
    "    edit_two_set = set()\n",
    "    one_edit = edit_one_letter(word)\n",
    "    ans = []\n",
    "    for w in one_edit:\n",
    "        ans.append(w)\n",
    "        ans.extend(edit_one_letter(w))\n",
    "    edit_two_set = set(ans)\n",
    "    return edit_two_set"
   ]
  },
  {
   "cell_type": "code",
   "execution_count": 12,
   "metadata": {
    "id": "bMhpvcDyGdZ5"
   },
   "outputs": [],
   "source": [
    "def get_count(word_l):\n",
    "    word_count_dict = {}\n",
    "    word_count_dict = Counter(word_l)\n",
    "    return word_count_dict\n",
    "\n",
    "def get_probs(word_count_dict):\n",
    "    probs = {}\n",
    "    total = 1\n",
    "    for word in word_count_dict.keys():\n",
    "        total = total + word_count_dict[word]\n",
    "    for word in word_count_dict.keys():\n",
    "        probs[word] = word_count_dict[word]/total\n",
    "    return probs"
   ]
  },
  {
   "cell_type": "code",
   "execution_count": 13,
   "metadata": {
    "id": "1B9-Y0tRGf5k"
   },
   "outputs": [],
   "source": [
    "def get_corrections(word, probs, vocab, n=2, verbose = False):\n",
    "    suggestions = []\n",
    "    n_best = []\n",
    "    if word in probs.keys():\n",
    "        suggestions.append(word)\n",
    "    for w in edit_one_letter(word):\n",
    "        if len(suggestions) == n:\n",
    "            break\n",
    "        if w in probs.keys():\n",
    "            suggestions.append(w)\n",
    "    for w in edit_two_letters(word):\n",
    "        if len(suggestions) == n:\n",
    "            break\n",
    "        if w in probs.keys():\n",
    "             suggestions.append(w)\n",
    "    best_words = {}\n",
    "    for s in suggestions:\n",
    "        best_words[s] = probs[s]\n",
    "    best_words = sorted(best_words.items(), key=lambda x: x[1], reverse=True)\n",
    "    n_best = best_words\n",
    "    return n_best"
   ]
  },
  {
   "cell_type": "code",
   "execution_count": 14,
   "metadata": {
    "id": "tMJSJ6zoGiz6"
   },
   "outputs": [],
   "source": [
    "def get_correct_word(word, vocab, probs, n):\n",
    "    corrections = get_corrections(word, probs, vocab, n, verbose=False)\n",
    "    if len(corrections) == 0:\n",
    "        return word\n",
    "    final_word = corrections[0][0]\n",
    "    final_prob = corrections[0][1]\n",
    "    for i, word_prob in enumerate(corrections):\n",
    "        if word_prob[1] > final_prob:\n",
    "            final_word = word_prob[0]\n",
    "            final_prob = word_prob[1]\n",
    "    return final_word"
   ]
  },
  {
   "cell_type": "code",
   "execution_count": 15,
   "metadata": {
    "colab": {
     "base_uri": "https://localhost:8080/"
    },
    "id": "7l0ImYLNGmhR",
    "outputId": "8d6f4e5e-d2a7-411a-d871-65ee71610c00"
   },
   "outputs": [
    {
     "name": "stdout",
     "output_type": "stream",
     "text": [
      "Enter A Sentence :- Hello i am workkking in python\n",
      "The Corrected Sentence :-  Hello i am working in python\n"
     ]
    }
   ],
   "source": [
    "def autocorrect(sentence, vocab, probs):\n",
    "    wrong_words = find_wrong_word(sentence, vocab)\n",
    "    #print(\"Wrong words : \", wrong_words)\n",
    "    correct_words = []\n",
    "    for word in sentence.strip().lower().split(\" \"):\n",
    "        if word in wrong_words:\n",
    "            correct_word = get_correct_word(word, vocab, probs, 15)\n",
    "            word = correct_word\n",
    "        correct_words.append(word)\n",
    "    print(\"The Corrected Sentence :- \", \" \".join(correct_words).capitalize())\n",
    "\n",
    "sent=input('Enter A Sentence :- ')\n",
    "wrong_words=find_wrong_word(sent, vocab)\n",
    "for W in wrong_words:\n",
    "    word_count_dict=get_count(word_l)\n",
    "    probs=get_probs(word_count_dict)\n",
    "autocorrect(sent,vocab,probs)"
   ]
  },
  {
   "cell_type": "code",
   "execution_count": null,
   "metadata": {
    "id": "S3PNN3gTGo4h"
   },
   "outputs": [],
   "source": []
  }
 ],
 "metadata": {
  "colab": {
   "provenance": []
  },
  "kernelspec": {
   "display_name": "Python 3 (ipykernel)",
   "language": "python",
   "name": "python3"
  },
  "language_info": {
   "codemirror_mode": {
    "name": "ipython",
    "version": 3
   },
   "file_extension": ".py",
   "mimetype": "text/x-python",
   "name": "python",
   "nbconvert_exporter": "python",
   "pygments_lexer": "ipython3",
   "version": "3.11.4"
  }
 },
 "nbformat": 4,
 "nbformat_minor": 1
}
